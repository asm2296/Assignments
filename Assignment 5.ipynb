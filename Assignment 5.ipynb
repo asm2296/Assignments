{
 "cells": [
  {
   "cell_type": "markdown",
   "id": "700cdb82-7677-4999-b30a-1f81ed526e83",
   "metadata": {},
   "source": [
    "# 1"
   ]
  },
  {
   "cell_type": "code",
   "execution_count": null,
   "id": "2290a40c-783e-4753-8ac6-ec62b474749a",
   "metadata": {},
   "outputs": [],
   "source": [
    "import numpy as np \n",
    "from matplotlib import pyplot as plt \n",
    "brf = np.genfromtxt('/data9/UN3400/data/brf_temp.txt', delimiter = '\\t')\n",
    "brf"
   ]
  },
  {
   "cell_type": "markdown",
   "id": "3fca7581-4e12-4335-b9ca-481b918c51b5",
   "metadata": {},
   "source": [
    "# 2"
   ]
  },
  {
   "cell_type": "code",
   "execution_count": 22,
   "id": "39147dea-507c-4e52-991d-f1440e1d260f",
   "metadata": {},
   "outputs": [
    {
     "name": "stdout",
     "output_type": "stream",
     "text": [
      "estimated standard deviation of the data: [[5.8341739]]\n",
      "estimated solution of model parameters: \n",
      "model parameter 0: -0.0002 +/- 0.4993\n",
      "model parameter 1: -0.0094 +/- 0.0119\n",
      "model parameter 2: 0.0012 +/- 0.0001\n",
      "model parameter 3: -0.0000 +/- 0.0000\n"
     ]
    }
   ],
   "source": [
    "#2. Use the least squares method to fit a model to this data. \n",
    "N, i = np.shape(brf)\n",
    "t = brf[:,0:1]\n",
    "dobs = brf[:,1:2]\n",
    "\n",
    "M = 4\n",
    "G = np.zeros((N,M))\n",
    "G[0:N,0:1] = np.ones((N,1))\n",
    "G[0:N,1:2] = t\n",
    "G[0:N,2:3] = t**2\n",
    "G[0:N,3:4] = t**3\n",
    "\n",
    "GTG = np.matmul(G.T,G)\n",
    "GTd = np.matmul(G.T, dobs)\n",
    "mest = np.linalg.lstsq(GTG,GTd, rcond = None)[0]\n",
    "dpre = np.matmul(G,mest)\n",
    "e = dobs - dpre\n",
    "sigmad2 = np.matmul(e.T, e) / (N-M)\n",
    "Cd = sigmad2 * np.linalg.inv(GTG)\n",
    "sm = np.sqrt(np.diag(Cd).reshape(-1,1))\n",
    "\n",
    "print(\"estimated standard deviation of the data: \" + str(np.sqrt(sigmad2)))\n",
    "print(\"estimated solution of model parameters: \")\n",
    "for k in range(M):\n",
    "    print(\"model parameter %d: %.4f +/- %.4f\" %(k, mest[k,0], 2.0*sm[k,0]))"
   ]
  },
  {
   "cell_type": "code",
   "execution_count": 26,
   "id": "934c8e49-af0a-4d30-bb8c-c5163cc11510",
   "metadata": {},
   "outputs": [
    {
     "data": {
      "text/plain": [
       "array([ 1.44401630e-01,  3.48483980e-04, -2.08041857e-06, -7.45702953e+00])"
      ]
     },
     "execution_count": 26,
     "metadata": {},
     "output_type": "execute_result"
    }
   ],
   "source": [
    "from scipy import optimize\n",
    "def linfunc(x, a, b, c, d):\n",
    "    y = a*x + b*x**2 + c*x**3 +d\n",
    "    return y\n",
    "\n",
    "mest_ez = optimize.curve_fit(linfunc, xdata = brf[:,0], ydata = brf[:,1])[0]\n",
    "mest_ez"
   ]
  },
  {
   "cell_type": "markdown",
   "id": "a78b8062-cdac-4816-8901-d69ed43b0447",
   "metadata": {},
   "source": [
    "# 3"
   ]
  },
  {
   "cell_type": "code",
   "execution_count": 39,
   "id": "da076648-1663-41c5-840e-4212c7c4c61e",
   "metadata": {},
   "outputs": [],
   "source": [
    "P = (2 * np.pi)/365.25\n",
    "\n",
    "def trigfunc(x, a, b, c):\n",
    "    y = a* np.cos(P*x) + b*np.sin(P*x) + c\n",
    "    return y\n",
    "\n",
    "mest_ez = optimize.curve_fit(trigfunc, xdata = brf[:,0], ydata = brf[:,1])[0]\n",
    "a = mest_ez[0]\n",
    "b = mest_ez[1]\n",
    "c = mest_ez[2]\n",
    "dpre = a* np.cos(P*t) + b*np.sin(P*t) + c"
   ]
  },
  {
   "cell_type": "markdown",
   "id": "87a08fba-afe4-459b-9a0e-209dd7226d36",
   "metadata": {},
   "source": [
    "# 4"
   ]
  },
  {
   "cell_type": "code",
   "execution_count": 49,
   "id": "3eb51431-6d8c-4fca-8514-60fdeaf23af6",
   "metadata": {},
   "outputs": [
    {
     "data": {
      "text/plain": [
       "12.34556192685458"
      ]
     },
     "execution_count": 49,
     "metadata": {},
     "output_type": "execute_result"
    }
   ],
   "source": [
    "D = np.sqrt(a**2 + b**2)\n",
    "D"
   ]
  },
  {
   "cell_type": "markdown",
   "id": "8c7d005d-f2ec-4644-852d-7c38859d52c5",
   "metadata": {},
   "source": [
    "# 5"
   ]
  },
  {
   "cell_type": "code",
   "execution_count": 50,
   "id": "dc41edb5-8a1f-4d3e-ad44-0e37d24b54ab",
   "metadata": {},
   "outputs": [
    {
     "data": {
      "text/plain": [
       "array([365.25])"
      ]
     },
     "execution_count": 50,
     "metadata": {},
     "output_type": "execute_result"
    }
   ],
   "source": [
    "t_max = max(t)\n",
    "t_max"
   ]
  },
  {
   "cell_type": "markdown",
   "id": "dcdcf857-7ea1-4576-8c04-7674747eaa29",
   "metadata": {},
   "source": [
    "# 6 "
   ]
  },
  {
   "cell_type": "code",
   "execution_count": null,
   "id": "98adb28f-e6e7-4f1b-8175-249ec55be12c",
   "metadata": {},
   "outputs": [],
   "source": [
    "fig, ax = plt.subplots(nrows = 2, ncols = 1, figsize = (7,14) )\n",
    "ax[0].margins(x = 0)\n",
    "ax[0].plot(t,dpre, 'k-')\n",
    "ax[0].plot(t, dobs, 'r.')\n",
    "ax[0].set_xlabel('t')\n",
    "ax[0].set_ylabel('d')\n",
    "ax[0].set_title(\"data: observed(black), predicted(red)\")\n",
    "\n",
    "ax[1].margins(x = 0)\n",
    "ax[1].plot(t,e, 'k.-')\n",
    "ax[1].set_xlabel('x')\n",
    "ax[1].set_ylabel('e')\n",
    "ax[1].set_title(\"prediction error\")"
   ]
  }
 ],
 "metadata": {
  "kernelspec": {
   "display_name": "pangeo23",
   "language": "python",
   "name": "pangeo23"
  },
  "language_info": {
   "codemirror_mode": {
    "name": "ipython",
    "version": 3
   },
   "file_extension": ".py",
   "mimetype": "text/x-python",
   "name": "python",
   "nbconvert_exporter": "python",
   "pygments_lexer": "ipython3",
   "version": "3.11.6"
  }
 },
 "nbformat": 4,
 "nbformat_minor": 5
}
