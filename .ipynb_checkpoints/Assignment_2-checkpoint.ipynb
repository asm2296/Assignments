{
 "cells": [
  {
   "cell_type": "markdown",
   "id": "85035f3c-7ae9-4ba6-8495-2a06c4f81520",
   "metadata": {},
   "source": [
    "## Part One"
   ]
  },
  {
   "cell_type": "markdown",
   "id": "849af458-f3a0-45f0-9ef7-7890a64d8112",
   "metadata": {},
   "source": [
    "### 1)"
   ]
  },
  {
   "cell_type": "code",
   "execution_count": 70,
   "id": "87fb7719-5f4c-48e6-9e87-d30183ac0aa6",
   "metadata": {},
   "outputs": [],
   "source": [
    "#1) Create a list with the names of every planet in the solar system (in order) [note: Pluto is not a planet]\n",
    "planets = [\"Mercury\", \"Venus\", \"Mars\", \"Earth\", \"Jupiter\", \"Saturn\", \"Uranus\", \"Neptune\"]"
   ]
  },
  {
   "cell_type": "markdown",
   "id": "4577448b-cf05-4d09-8338-aacd9b4fb053",
   "metadata": {},
   "source": [
    "### 2)"
   ]
  },
  {
   "cell_type": "code",
   "execution_count": 71,
   "id": "5c177138-11f0-4c8c-9306-8f4df270977f",
   "metadata": {},
   "outputs": [
    {
     "name": "stdout",
     "output_type": "stream",
     "text": [
      "8\n"
     ]
    }
   ],
   "source": [
    "#2) Have Python tell you how many planets there are by examining your list\n",
    "print(len(planets))"
   ]
  },
  {
   "cell_type": "markdown",
   "id": "a360af1e-d77d-4723-9f71-a2ed5170801d",
   "metadata": {},
   "source": [
    "### 3)"
   ]
  },
  {
   "cell_type": "code",
   "execution_count": 72,
   "id": "6acb7f4f-32e4-4b0a-b6d9-f72f0ce22ef6",
   "metadata": {},
   "outputs": [
    {
     "name": "stdout",
     "output_type": "stream",
     "text": [
      "['Mercury', 'Venus', 'Mars', 'Earth']\n"
     ]
    }
   ],
   "source": [
    "#3) Use slicing to display the first four planets (the rocky planets)\n",
    "print(planets[:4])"
   ]
  },
  {
   "cell_type": "markdown",
   "id": "a8a870b7-622d-4680-bf60-92f7376b97b4",
   "metadata": {},
   "source": [
    "### 4)"
   ]
  },
  {
   "cell_type": "code",
   "execution_count": 73,
   "id": "d9287982-cfaf-4f1d-a537-d75f9daf7dda",
   "metadata": {},
   "outputs": [
    {
     "name": "stdout",
     "output_type": "stream",
     "text": [
      "Venus\n",
      "Mars\n",
      "Uranus\n"
     ]
    }
   ],
   "source": [
    "#4) Iterate through your planets and print the planet name only if it has an s at the end\n",
    "for i in planets:\n",
    "    if i[-1] == \"s\":\n",
    "        print(i)"
   ]
  },
  {
   "cell_type": "markdown",
   "id": "56a99079-ae38-4daa-9247-7c278797a02d",
   "metadata": {},
   "source": [
    "## Part 2"
   ]
  },
  {
   "cell_type": "markdown",
   "id": "a0e0a5af-fb09-4ac4-9c5d-27c08995d2a5",
   "metadata": {},
   "source": [
    "### 1)"
   ]
  },
  {
   "cell_type": "code",
   "execution_count": 104,
   "id": "f1f88962-5237-4848-b6e1-fadd18ef319b",
   "metadata": {},
   "outputs": [],
   "source": [
    "#1) convert temperature from kelvin to celsius and celsius to kelvin\n",
    "def celsius_to_kelvin(temp, from_kelvin = True):\n",
    "    \"\"\" convert temperature from kelvin to celsius and celsius to kelvin \"\"\"\n",
    "    if from_kelvin == True:\n",
    "        temp = temp - 273\n",
    "    elif from_kelvin == False:\n",
    "        temp = temp + 273\n",
    "    return temp"
   ]
  },
  {
   "cell_type": "markdown",
   "id": "dc0937d9-a4ab-41ef-a7c9-05db673440ad",
   "metadata": {},
   "source": [
    "### 2)"
   ]
  },
  {
   "cell_type": "code",
   "execution_count": 103,
   "id": "7763e6ec-ceec-43e4-b8a2-c03355bc5d62",
   "metadata": {},
   "outputs": [],
   "source": [
    "#2) convert temperature to fahrenheit from either celsius or kelvin\n",
    "def to_fahrenheit(temp, from_celsius = True):\n",
    "    \"\"\" convert temperature to fahrenheit from either celsius or kelvin  \"\"\"\n",
    "    if from_celsius == False:\n",
    "        temp = celsius_to_kelvin(temp, from_kelvin = True)\n",
    "    temp = temp * 9/5 + 32\n",
    "    return temp"
   ]
  },
  {
   "cell_type": "markdown",
   "id": "50891872-ac58-4745-ac8e-0544b2ddaeec",
   "metadata": {},
   "source": [
    "### 3)"
   ]
  },
  {
   "cell_type": "code",
   "execution_count": 102,
   "id": "5b663f54-03b7-4a4a-ac4c-eba5c40886e7",
   "metadata": {},
   "outputs": [
    {
     "data": {
      "text/plain": [
       "296"
      ]
     },
     "execution_count": 102,
     "metadata": {},
     "output_type": "execute_result"
    }
   ],
   "source": [
    "#3) Check that the outputs are sensible by trying a few examples\n",
    "celsius_to_kelvin(23, from_kelvin = False)"
   ]
  },
  {
   "cell_type": "code",
   "execution_count": 101,
   "id": "3254c33b-b6f1-4898-a15b-15bd58dbbf7d",
   "metadata": {},
   "outputs": [
    {
     "data": {
      "text/plain": [
       "80.6"
      ]
     },
     "execution_count": 101,
     "metadata": {},
     "output_type": "execute_result"
    }
   ],
   "source": [
    "to_fahrenheit(300, from_celsius = False)"
   ]
  },
  {
   "cell_type": "markdown",
   "id": "36830d35-8a70-4305-810a-efc3406f81c1",
   "metadata": {},
   "source": [
    "### 4)"
   ]
  },
  {
   "cell_type": "code",
   "execution_count": 91,
   "id": "c2587e53-5ee2-4394-87a7-480306f0d549",
   "metadata": {},
   "outputs": [],
   "source": [
    "# 4) Now write a function that converts from farenheit and uses a keyword argument to specify whether you want the output in celcius or kelvin\n",
    "def from_fahrenheit(temp, to_kelvin = True):\n",
    "    \"\"\" convert temperature from fahrenheit to either celsius or kelvin  \"\"\"\n",
    "    temp = (temp - 32) * 5/9\n",
    "    if to_kelvin == True:\n",
    "        temp = celsius_to_kelvin(temp, from_kelvin == False)\n",
    "    return temp"
   ]
  },
  {
   "cell_type": "markdown",
   "id": "1731c1a1-db24-4cdd-b544-48a558b88f1b",
   "metadata": {},
   "source": [
    "### 5)"
   ]
  },
  {
   "cell_type": "code",
   "execution_count": 98,
   "id": "4491766f-a91f-4e3e-b242-2f2ca3b85928",
   "metadata": {},
   "outputs": [],
   "source": [
    "#5) Write a function that takes two arguments (feet and inches) and returns height in meters. Verify it gives sensible answers\n",
    "def height_in_meters(feet, inches):\n",
    "    \"\"\" convert height in feet and inches to meters\"\"\"\n",
    "    inches = (feet * 12) + inches\n",
    "    meters = inches * 0.0254\n",
    "    return meters"
   ]
  },
  {
   "cell_type": "markdown",
   "id": "f603387d-8911-47aa-8a89-a2b341be350e",
   "metadata": {},
   "source": [
    "### 6)"
   ]
  },
  {
   "cell_type": "code",
   "execution_count": 99,
   "id": "e71338a2-a828-40b0-94e9-56a042f1330a",
   "metadata": {},
   "outputs": [],
   "source": [
    "#6. Write a function takes one argument (height in meters) and returns two arguments (feet and inches).(Consult the tutorial on numbers if you are stuck on how to implement this.)\n",
    "def height_in_feet_and_inches(meters):\n",
    "    \"\"\" convert height in meters to feet and inches\"\"\"\n",
    "    feet = meters * 3.28084\n",
    "    inches = round(12 * (feet - math.floor(feet)),2)\n",
    "    feet = math.floor(feet)\n",
    "    return feet, inches"
   ]
  },
  {
   "cell_type": "markdown",
   "id": "dfa5179b-ef09-477c-ba1c-9f2825c3da8b",
   "metadata": {},
   "source": [
    "### 7)"
   ]
  },
  {
   "cell_type": "code",
   "execution_count": 100,
   "id": "ab8be29b-5cdf-411d-a5d5-4a8ed9284ec3",
   "metadata": {},
   "outputs": [
    {
     "data": {
      "text/plain": [
       "(5, 7.0)"
      ]
     },
     "execution_count": 100,
     "metadata": {},
     "output_type": "execute_result"
    }
   ],
   "source": [
    "#7) Verify that the “round trip” conversion from and back to meters is consistent. Check for 3 different values of height in meters\n",
    "height_in_feet_and_inches(height_in_meters(5,7))"
   ]
  },
  {
   "cell_type": "code",
   "execution_count": 105,
   "id": "361daa2b-f43a-4112-acac-928e8377c7c7",
   "metadata": {},
   "outputs": [
    {
     "data": {
      "text/plain": [
       "1.800098"
      ]
     },
     "execution_count": 105,
     "metadata": {},
     "output_type": "execute_result"
    }
   ],
   "source": [
    "height_in_meters(*height_in_feet_and_inches(1.8))"
   ]
  },
  {
   "cell_type": "code",
   "execution_count": 106,
   "id": "3761b903-1640-4e29-be89-6b8d4f104886",
   "metadata": {},
   "outputs": [
    {
     "data": {
      "text/plain": [
       "(6, 0.0)"
      ]
     },
     "execution_count": 106,
     "metadata": {},
     "output_type": "execute_result"
    }
   ],
   "source": [
    "height_in_feet_and_inches(height_in_meters(6,0))"
   ]
  }
 ],
 "metadata": {
  "kernelspec": {
   "display_name": "pangeo23",
   "language": "python",
   "name": "pangeo23"
  },
  "language_info": {
   "codemirror_mode": {
    "name": "ipython",
    "version": 3
   },
   "file_extension": ".py",
   "mimetype": "text/x-python",
   "name": "python",
   "nbconvert_exporter": "python",
   "pygments_lexer": "ipython3",
   "version": "3.11.6"
  }
 },
 "nbformat": 4,
 "nbformat_minor": 5
}
