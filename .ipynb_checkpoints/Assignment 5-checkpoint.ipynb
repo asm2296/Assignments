{
 "cells": [
  {
   "cell_type": "markdown",
   "id": "700cdb82-7677-4999-b30a-1f81ed526e83",
   "metadata": {},
   "source": [
    "# 1"
   ]
  },
  {
   "cell_type": "code",
   "execution_count": null,
   "id": "2290a40c-783e-4753-8ac6-ec62b474749a",
   "metadata": {},
   "outputs": [],
   "source": [
    "import numpy as np \n",
    "from matplotlib import pyplot as plt \n",
    "brf = np.genfromtxt('/data9/UN3400/data/brf_temp.txt', delimiter = '\\t')\n",
    "brf"
   ]
  },
  {
   "cell_type": "markdown",
   "id": "3fca7581-4e12-4335-b9ca-481b918c51b5",
   "metadata": {},
   "source": [
    "# 2"
   ]
  },
  {
   "cell_type": "code",
   "execution_count": 22,
   "id": "39147dea-507c-4e52-991d-f1440e1d260f",
   "metadata": {},
   "outputs": [
    {
     "name": "stdout",
     "output_type": "stream",
     "text": [
      "estimated standard deviation of the data: [[5.8341739]]\n",
      "estimated solution of model parameters: \n",
      "model parameter 0: -0.0002 +/- 0.4993\n",
      "model parameter 1: -0.0094 +/- 0.0119\n",
      "model parameter 2: 0.0012 +/- 0.0001\n",
      "model parameter 3: -0.0000 +/- 0.0000\n"
     ]
    }
   ],
   "source": [
    "#2. Use the least squares method to fit a model to this data. \n",
    "N, i = np.shape(brf)\n",
    "t = brf[:,0:1]\n",
    "dobs = brf[:,1:2]\n",
    "\n",
    "M = 4\n",
    "G = np.zeros((N,M))\n",
    "G[0:N,0:1] = np.ones((N,1))\n",
    "G[0:N,1:2] = t\n",
    "G[0:N,2:3] = t**2\n",
    "G[0:N,3:4] = t**3\n",
    "\n",
    "GTG = np.matmul(G.T,G)\n",
    "GTd = np.matmul(G.T, dobs)\n",
    "mest = np.linalg.lstsq(GTG,GTd, rcond = None)[0]\n",
    "dpre = np.matmul(G,mest)\n",
    "e = dobs - dpre\n",
    "sigmad2 = np.matmul(e.T, e) / (N-M)\n",
    "Cd = sigmad2 * np.linalg.inv(GTG)\n",
    "sm = np.sqrt(np.diag(Cd).reshape(-1,1))\n",
    "\n",
    "print(\"estimated standard deviation of the data: \" + str(np.sqrt(sigmad2)))\n",
    "print(\"estimated solution of model parameters: \")\n",
    "for k in range(M):\n",
    "    print(\"model parameter %d: %.4f +/- %.4f\" %(k, mest[k,0], 2.0*sm[k,0]))"
   ]
  },
  {
   "cell_type": "code",
   "execution_count": 26,
   "id": "934c8e49-af0a-4d30-bb8c-c5163cc11510",
   "metadata": {},
   "outputs": [
    {
     "data": {
      "text/plain": [
       "array([ 1.44401630e-01,  3.48483980e-04, -2.08041857e-06, -7.45702953e+00])"
      ]
     },
     "execution_count": 26,
     "metadata": {},
     "output_type": "execute_result"
    }
   ],
   "source": [
    "from scipy import optimize\n",
    "def linfunc(x, a, b, c, d):\n",
    "    y = a*x + b*x**2 + c*x**3 +d\n",
    "    return y\n",
    "\n",
    "mest_ez = optimize.curve_fit(linfunc, xdata = brf[:,0], ydata = brf[:,1])[0]\n",
    "mest_ez"
   ]
  },
  {
   "cell_type": "markdown",
   "id": "a78b8062-cdac-4816-8901-d69ed43b0447",
   "metadata": {},
   "source": [
    "# 3"
   ]
  },
  {
   "cell_type": "code",
   "execution_count": 36,
   "id": "da076648-1663-41c5-840e-4212c7c4c61e",
   "metadata": {},
   "outputs": [
    {
     "data": {
      "text/plain": [
       "array([-11.5832996 ,  -4.27083944,   9.04146982])"
      ]
     },
     "execution_count": 36,
     "metadata": {},
     "output_type": "execute_result"
    }
   ],
   "source": [
    "P = (2 * np.pi)/365.25\n",
    "\n",
    "def trigfunc(x, a, b, c):\n",
    "    y = a* np.cos(P*x) + b*np.sin(P*x) + c\n",
    "    return y\n",
    "\n",
    "mest_ez = optimize.curve_fit(trigfunc, xdata = brf[:,0], ydata = brf[:,1])[0]\n",
    "a = mest_ez[0]\n",
    "b = mest_ez[1]\n",
    "c = mest_ez[2]\n",
    "dpre = a* np.cos(P*x) + b*np.sin(P*x) + c"
   ]
  },
  {
   "cell_type": "markdown",
   "id": "87a08fba-afe4-459b-9a0e-209dd7226d36",
   "metadata": {},
   "source": [
    "# 4. What is the amplitude D of the seasonal cycle? "
   ]
  },
  {
   "cell_type": "code",
   "execution_count": 34,
   "id": "3eb51431-6d8c-4fca-8514-60fdeaf23af6",
   "metadata": {},
   "outputs": [
    {
     "ename": "NameError",
     "evalue": "name 'a' is not defined",
     "output_type": "error",
     "traceback": [
      "\u001b[0;31m---------------------------------------------------------------------------\u001b[0m",
      "\u001b[0;31mNameError\u001b[0m                                 Traceback (most recent call last)",
      "Cell \u001b[0;32mIn[34], line 1\u001b[0m\n\u001b[0;32m----> 1\u001b[0m D \u001b[38;5;241m=\u001b[39m np\u001b[38;5;241m.\u001b[39msqrt(\u001b[43ma\u001b[49m\u001b[38;5;241m*\u001b[39m\u001b[38;5;241m*\u001b[39m\u001b[38;5;241m2\u001b[39m \u001b[38;5;241m+\u001b[39m b\u001b[38;5;241m*\u001b[39m\u001b[38;5;241m*\u001b[39m\u001b[38;5;241m2\u001b[39m)\n",
      "\u001b[0;31mNameError\u001b[0m: name 'a' is not defined"
     ]
    }
   ],
   "source": [
    "D = np.sqrt(a**2 + b**2)"
   ]
  },
  {
   "cell_type": "code",
   "execution_count": null,
   "id": "f5ff8d53-f117-4bda-b767-46bce3a72d69",
   "metadata": {},
   "outputs": [],
   "source": [
    "5. When is the peak t_max of the seasonal cycle? "
   ]
  },
  {
   "cell_type": "code",
   "execution_count": 37,
   "id": "38f40447-7adc-4f5f-8987-830eed5d6f70",
   "metadata": {},
   "outputs": [
    {
     "ename": "ValueError",
     "evalue": "x and y must have same first dimension, but have shapes (8585, 1) and (3,)",
     "output_type": "error",
     "traceback": [
      "\u001b[0;31m---------------------------------------------------------------------------\u001b[0m",
      "\u001b[0;31mValueError\u001b[0m                                Traceback (most recent call last)",
      "Cell \u001b[0;32mIn[37], line 5\u001b[0m\n\u001b[1;32m      3\u001b[0m fig, ax \u001b[38;5;241m=\u001b[39m plt\u001b[38;5;241m.\u001b[39msubplots(nrows \u001b[38;5;241m=\u001b[39m \u001b[38;5;241m2\u001b[39m, ncols \u001b[38;5;241m=\u001b[39m \u001b[38;5;241m1\u001b[39m, figsize \u001b[38;5;241m=\u001b[39m (\u001b[38;5;241m7\u001b[39m,\u001b[38;5;241m14\u001b[39m) )\n\u001b[1;32m      4\u001b[0m ax[\u001b[38;5;241m0\u001b[39m]\u001b[38;5;241m.\u001b[39maxis([np\u001b[38;5;241m.\u001b[39mmin(t), np\u001b[38;5;241m.\u001b[39mmax(t), \u001b[38;5;241m-\u001b[39m\u001b[38;5;241m4\u001b[39m,\u001b[38;5;241m4\u001b[39m])\n\u001b[0;32m----> 5\u001b[0m \u001b[43max\u001b[49m\u001b[43m[\u001b[49m\u001b[38;5;241;43m0\u001b[39;49m\u001b[43m]\u001b[49m\u001b[38;5;241;43m.\u001b[39;49m\u001b[43mplot\u001b[49m\u001b[43m(\u001b[49m\u001b[43mt\u001b[49m\u001b[43m,\u001b[49m\u001b[43mmest_ez\u001b[49m\u001b[43m,\u001b[49m\u001b[43m \u001b[49m\u001b[38;5;124;43m'\u001b[39;49m\u001b[38;5;124;43mk-\u001b[39;49m\u001b[38;5;124;43m'\u001b[39;49m\u001b[43m)\u001b[49m\n\u001b[1;32m      6\u001b[0m ax[\u001b[38;5;241m0\u001b[39m]\u001b[38;5;241m.\u001b[39mplot(t, dobs, \u001b[38;5;124m'\u001b[39m\u001b[38;5;124mro\u001b[39m\u001b[38;5;124m'\u001b[39m)\n\u001b[1;32m      7\u001b[0m ax[\u001b[38;5;241m0\u001b[39m]\u001b[38;5;241m.\u001b[39mset_xlabel(\u001b[38;5;124m'\u001b[39m\u001b[38;5;124mt\u001b[39m\u001b[38;5;124m'\u001b[39m)\n",
      "File \u001b[0;32m/opt/sw/anaconda3/2023.09/envs/pangeo23/lib/python3.11/site-packages/matplotlib/axes/_axes.py:1721\u001b[0m, in \u001b[0;36mAxes.plot\u001b[0;34m(self, scalex, scaley, data, *args, **kwargs)\u001b[0m\n\u001b[1;32m   1478\u001b[0m \u001b[38;5;250m\u001b[39m\u001b[38;5;124;03m\"\"\"\u001b[39;00m\n\u001b[1;32m   1479\u001b[0m \u001b[38;5;124;03mPlot y versus x as lines and/or markers.\u001b[39;00m\n\u001b[1;32m   1480\u001b[0m \n\u001b[0;32m   (...)\u001b[0m\n\u001b[1;32m   1718\u001b[0m \u001b[38;5;124;03m(``'green'``) or hex strings (``'#008000'``).\u001b[39;00m\n\u001b[1;32m   1719\u001b[0m \u001b[38;5;124;03m\"\"\"\u001b[39;00m\n\u001b[1;32m   1720\u001b[0m kwargs \u001b[38;5;241m=\u001b[39m cbook\u001b[38;5;241m.\u001b[39mnormalize_kwargs(kwargs, mlines\u001b[38;5;241m.\u001b[39mLine2D)\n\u001b[0;32m-> 1721\u001b[0m lines \u001b[38;5;241m=\u001b[39m [\u001b[38;5;241m*\u001b[39m\u001b[38;5;28mself\u001b[39m\u001b[38;5;241m.\u001b[39m_get_lines(\u001b[38;5;28mself\u001b[39m, \u001b[38;5;241m*\u001b[39margs, data\u001b[38;5;241m=\u001b[39mdata, \u001b[38;5;241m*\u001b[39m\u001b[38;5;241m*\u001b[39mkwargs)]\n\u001b[1;32m   1722\u001b[0m \u001b[38;5;28;01mfor\u001b[39;00m line \u001b[38;5;129;01min\u001b[39;00m lines:\n\u001b[1;32m   1723\u001b[0m     \u001b[38;5;28mself\u001b[39m\u001b[38;5;241m.\u001b[39madd_line(line)\n",
      "File \u001b[0;32m/opt/sw/anaconda3/2023.09/envs/pangeo23/lib/python3.11/site-packages/matplotlib/axes/_base.py:303\u001b[0m, in \u001b[0;36m_process_plot_var_args.__call__\u001b[0;34m(self, axes, data, *args, **kwargs)\u001b[0m\n\u001b[1;32m    301\u001b[0m     this \u001b[38;5;241m+\u001b[39m\u001b[38;5;241m=\u001b[39m args[\u001b[38;5;241m0\u001b[39m],\n\u001b[1;32m    302\u001b[0m     args \u001b[38;5;241m=\u001b[39m args[\u001b[38;5;241m1\u001b[39m:]\n\u001b[0;32m--> 303\u001b[0m \u001b[38;5;28;01myield from\u001b[39;00m \u001b[38;5;28;43mself\u001b[39;49m\u001b[38;5;241;43m.\u001b[39;49m\u001b[43m_plot_args\u001b[49m\u001b[43m(\u001b[49m\n\u001b[1;32m    304\u001b[0m \u001b[43m    \u001b[49m\u001b[43maxes\u001b[49m\u001b[43m,\u001b[49m\u001b[43m \u001b[49m\u001b[43mthis\u001b[49m\u001b[43m,\u001b[49m\u001b[43m \u001b[49m\u001b[43mkwargs\u001b[49m\u001b[43m,\u001b[49m\u001b[43m \u001b[49m\u001b[43mambiguous_fmt_datakey\u001b[49m\u001b[38;5;241;43m=\u001b[39;49m\u001b[43mambiguous_fmt_datakey\u001b[49m\u001b[43m)\u001b[49m\n",
      "File \u001b[0;32m/opt/sw/anaconda3/2023.09/envs/pangeo23/lib/python3.11/site-packages/matplotlib/axes/_base.py:499\u001b[0m, in \u001b[0;36m_process_plot_var_args._plot_args\u001b[0;34m(self, axes, tup, kwargs, return_kwargs, ambiguous_fmt_datakey)\u001b[0m\n\u001b[1;32m    496\u001b[0m     axes\u001b[38;5;241m.\u001b[39myaxis\u001b[38;5;241m.\u001b[39mupdate_units(y)\n\u001b[1;32m    498\u001b[0m \u001b[38;5;28;01mif\u001b[39;00m x\u001b[38;5;241m.\u001b[39mshape[\u001b[38;5;241m0\u001b[39m] \u001b[38;5;241m!=\u001b[39m y\u001b[38;5;241m.\u001b[39mshape[\u001b[38;5;241m0\u001b[39m]:\n\u001b[0;32m--> 499\u001b[0m     \u001b[38;5;28;01mraise\u001b[39;00m \u001b[38;5;167;01mValueError\u001b[39;00m(\u001b[38;5;124mf\u001b[39m\u001b[38;5;124m\"\u001b[39m\u001b[38;5;124mx and y must have same first dimension, but \u001b[39m\u001b[38;5;124m\"\u001b[39m\n\u001b[1;32m    500\u001b[0m                      \u001b[38;5;124mf\u001b[39m\u001b[38;5;124m\"\u001b[39m\u001b[38;5;124mhave shapes \u001b[39m\u001b[38;5;132;01m{\u001b[39;00mx\u001b[38;5;241m.\u001b[39mshape\u001b[38;5;132;01m}\u001b[39;00m\u001b[38;5;124m and \u001b[39m\u001b[38;5;132;01m{\u001b[39;00my\u001b[38;5;241m.\u001b[39mshape\u001b[38;5;132;01m}\u001b[39;00m\u001b[38;5;124m\"\u001b[39m)\n\u001b[1;32m    501\u001b[0m \u001b[38;5;28;01mif\u001b[39;00m x\u001b[38;5;241m.\u001b[39mndim \u001b[38;5;241m>\u001b[39m \u001b[38;5;241m2\u001b[39m \u001b[38;5;129;01mor\u001b[39;00m y\u001b[38;5;241m.\u001b[39mndim \u001b[38;5;241m>\u001b[39m \u001b[38;5;241m2\u001b[39m:\n\u001b[1;32m    502\u001b[0m     \u001b[38;5;28;01mraise\u001b[39;00m \u001b[38;5;167;01mValueError\u001b[39;00m(\u001b[38;5;124mf\u001b[39m\u001b[38;5;124m\"\u001b[39m\u001b[38;5;124mx and y can be no greater than 2D, but have \u001b[39m\u001b[38;5;124m\"\u001b[39m\n\u001b[1;32m    503\u001b[0m                      \u001b[38;5;124mf\u001b[39m\u001b[38;5;124m\"\u001b[39m\u001b[38;5;124mshapes \u001b[39m\u001b[38;5;132;01m{\u001b[39;00mx\u001b[38;5;241m.\u001b[39mshape\u001b[38;5;132;01m}\u001b[39;00m\u001b[38;5;124m and \u001b[39m\u001b[38;5;132;01m{\u001b[39;00my\u001b[38;5;241m.\u001b[39mshape\u001b[38;5;132;01m}\u001b[39;00m\u001b[38;5;124m\"\u001b[39m)\n",
      "\u001b[0;31mValueError\u001b[0m: x and y must have same first dimension, but have shapes (8585, 1) and (3,)"
     ]
    },
    {
     "data": {
      "image/png": "[encoded data removed]",
      "text/plain": [
       "<Figure size 700x1400 with 2 Axes>"
      ]
     },
     "metadata": {},
     "output_type": "display_data"
    }
   ],
   "source": [
    "#6. Plot the model prediction and the observed data versus time on the same plot. Also plot the errors versus time. \n",
    "\n",
    "fig, ax = plt.subplots(nrows = 2, ncols = 1, figsize = (7,14) )\n",
    "ax[0].axis([np.min(t), np.max(t), -4,4])\n",
    "ax[0].plot(t,mest_ez, 'k-')\n",
    "ax[0].plot(t, dobs, 'ro')\n",
    "ax[0].set_xlabel('t')\n",
    "ax[0].set_ylabel('d')\n",
    "ax[0].set_title(\"data: observed(black), predicted(red)\")\n",
    "\n",
    "ax[1].axis([np.min(t), np.max(t), -.4,.4])\n",
    "ax[1].plot(t,e, 'ko-')\n",
    "ax[1].set_xlabel('x')\n",
    "ax[1].set_ylabel('e')\n",
    "ax[1].set_title(\"prediction error\")"
   ]
  }
 ],
 "metadata": {
  "kernelspec": {
   "display_name": "pangeo23",
   "language": "python",
   "name": "pangeo23"
  },
  "language_info": {
   "codemirror_mode": {
    "name": "ipython",
    "version": 3
   },
   "file_extension": ".py",
   "mimetype": "text/x-python",
   "name": "python",
   "nbconvert_exporter": "python",
   "pygments_lexer": "ipython3",
   "version": "3.11.6"
  }
 },
 "nbformat": 4,
 "nbformat_minor": 5
}
