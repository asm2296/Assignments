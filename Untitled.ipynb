{
 "cells": [
  {
   "cell_type": "code",
   "execution_count": 1,
   "id": "fbd1eb20-de35-4fba-b7d8-8393829f657b",
   "metadata": {},
   "outputs": [
    {
     "name": "stderr",
     "output_type": "stream",
     "text": [
      "Downloading file 'HEADERS.txt' from 'doi:10.5281/zenodo.5553029/HEADERS.txt' to '/home/asm2296/.cache/noaa-data'.\n",
      "Downloading file 'CRND0103-2016-NY_Millbrook_3_W.txt' from 'doi:10.5281/zenodo.5553029/CRND0103-2016-NY_Millbrook_3_W.txt' to '/home/asm2296/.cache/noaa-data'.\n",
      "Downloading file 'CRND0103-2017-NY_Millbrook_3_W.txt' from 'doi:10.5281/zenodo.5553029/CRND0103-2017-NY_Millbrook_3_W.txt' to '/home/asm2296/.cache/noaa-data'.\n",
      "Downloading file 'CRND0103-2018-NY_Millbrook_3_W.txt' from 'doi:10.5281/zenodo.5553029/CRND0103-2018-NY_Millbrook_3_W.txt' to '/home/asm2296/.cache/noaa-data'.\n"
     ]
    }
   ],
   "source": [
    "import pooch\n",
    "POOCH = pooch.create(\n",
    "    path=pooch.os_cache(\"noaa-data\"),\n",
    "    # Use the figshare DOI\n",
    "    base_url=\"doi:10.5281/zenodo.5553029/\",\n",
    "    registry={\n",
    "        \"HEADERS.txt\": \"md5:2a306ca225fe3ccb72a98953ded2f536\",\n",
    "        \"CRND0103-2016-NY_Millbrook_3_W.txt\": \"md5:eb69811d14d0573ffa69f70dd9c768d9\",\n",
    "        \"CRND0103-2017-NY_Millbrook_3_W.txt\": \"md5:b911da727ba1bdf26a34a775f25d1088\",\n",
    "        \"CRND0103-2018-NY_Millbrook_3_W.txt\": \"md5:5b61bc687261596eba83801d7080dc56\",\n",
    "        \"CRND0103-2019-NY_Millbrook_3_W.txt\": \"md5:9b814430612cd8a770b72020ca4f2b7d\",\n",
    "        \"CRND0103-2020-NY_Millbrook_3_W.txt\": \"md5:cd8de6d5445024ce35fcaafa9b0e7b64\"\n",
    "    },\n",
    ")\n",
    "\n",
    "\n",
    "import pandas as pd\n",
    "\n",
    "with open(POOCH.fetch(\"HEADERS.txt\")) as fp:\n",
    "    data = fp.read()\n",
    "lines = data.split('\\n')\n",
    "headers = lines[1].split(' ')\n",
    "\n",
    "dframes = []\n",
    "for year in range(2016, 2019):\n",
    "    fname = f'CRND0103-{year}-NY_Millbrook_3_W.txt'               \n",
    "    df = pd.read_csv(POOCH.fetch(fname), parse_dates=[1],\n",
    "                     names=headers, header=None, sep='\\s+',\n",
    "                     na_values=[-9999.0, -99.0])\n",
    "    dframes.append(df)\n",
    "\n",
    "df = pd.concat(dframes)\n",
    "df = df.set_index('LST_DATE')\n",
    "df\n",
    "\n",
    "#########################################################\n",
    "#### BELOW ARE THE VARIABLES YOU SHOULD USE IN THE PLOTS!\n",
    "#### (numpy arrays)  \n",
    "#### NO PANDAS ALLOWED!\n",
    "#########################################################\n",
    "\n",
    "t_daily_min = df.T_DAILY_MIN.values\n",
    "t_daily_max = df.T_DAILY_MAX.values\n",
    "t_daily_mean = df.T_DAILY_MEAN.values\n",
    "p_daily_calc = df.P_DAILY_CALC.values\n",
    "soil_moisture_5 = df.SOIL_MOISTURE_5_DAILY.values\n",
    "soil_moisture_10 = df.SOIL_MOISTURE_10_DAILY.values\n",
    "soil_moisture_20 = df.SOIL_MOISTURE_20_DAILY.values\n",
    "soil_moisture_50 = df.SOIL_MOISTURE_50_DAILY.values\n",
    "soil_moisture_100 = df.SOIL_MOISTURE_100_DAILY.values\n",
    "date = df.index.values"
   ]
  }
 ],
 "metadata": {
  "kernelspec": {
   "display_name": "pangeo23",
   "language": "python",
   "name": "pangeo23"
  },
  "language_info": {
   "codemirror_mode": {
    "name": "ipython",
    "version": 3
   },
   "file_extension": ".py",
   "mimetype": "text/x-python",
   "name": "python",
   "nbconvert_exporter": "python",
   "pygments_lexer": "ipython3",
   "version": "3.11.6"
  }
 },
 "nbformat": 4,
 "nbformat_minor": 5
}
