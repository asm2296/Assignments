{
 "cells": [
  {
   "cell_type": "code",
   "execution_count": 11,
   "id": "00aaaecb-a6c9-4730-8532-c97a5f053f9b",
   "metadata": {},
   "outputs": [
    {
     "name": "stdout",
     "output_type": "stream",
     "text": [
      "8\n",
      "['Mercury', 'Venus', 'Mars', 'Earth']\n",
      "Venus\n",
      "Mars\n",
      "Uranus\n"
     ]
    }
   ],
   "source": [
    "#1) Create a list with the names of every planet in the solar system (in order) [note: Pluto is not a planet]\n",
    "planets = [\"Mercury\", \"Venus\", \"Mars\", \"Earth\", \"Jupiter\", \"Saturn\", \"Uranus\", \"Neptune\"]\n",
    "#2) Have Python tell you how many planets there are by examining your list\n",
    "print(len(planets))\n",
    "#3) Use slicing to display the first four planets (the rocky planets)\n",
    "print(planets[:4])\n",
    "#4) Iterate through your planets and print the planet name only if it has an s at the end\n",
    "for i in planets:\n",
    "    if i[-1] == \"s\":\n",
    "        print(i)"
   ]
  },
  {
   "cell_type": "code",
   "execution_count": 10,
   "id": "f1f88962-5237-4848-b6e1-fadd18ef319b",
   "metadata": {},
   "outputs": [
    {
     "name": "stdout",
     "output_type": "stream",
     "text": [
      "invalid unit, please use either celsius or kelvin\n",
      "invalid unit, please use either celsius or kelvin\n",
      "invalid unit, please use either celsius or kelvin\n"
     ]
    }
   ],
   "source": [
    "#1\n",
    "def celsius_to_kelvin(temp, from_kelvin = True):\n",
    "    \"\"\" convert temperature from kelvin to celsius and celsius to kelvin \"\"\"\n",
    "    if kelvin == True:\n",
    "        print(\"Converting from Kelvin to Celsius...\")\n",
    "        return temp + 273\n",
    "    elif kelvin == False:\n",
    "        print(\"Converting from Celsius to Kelvin...\")\n",
    "        return temp - 273\n",
    "    else:\n",
    "        print(\"invalid unit, please use either celsius or kelvin\")\n",
    "#2. \n",
    "def to_fahrenheit(temp, **unit):\n",
    "    \"\"\" convert temperature to fahrenheit from either celsius or kelvin  \"\"\"\n",
    "    if input == \"kelvin\":\n",
    "        celsius_to_kelvin(temp, unit = unit)\n",
    "        temp + 32 * 9/5\n",
    "    elif input == \"celsius\":\n",
    "        temp + 32 * 9/5\n",
    "    else:\n",
    "        print(\"invalid unit, please use either celsius or kelvin\")\n",
    "   \n",
    "#3) Check that the outputs are sensible by trying a few examples\n",
    "celsius_to_kelvin(23, unit = \"celsius\n",
    "to_fahrenheit(23, unit = \"celsius\")\n",
    "to_fahrenheit(300, unit = \"kelvin\")\n",
    "to_fahrenheit(300, unit = \"goopgop\")\n",
    "\n",
    "# 4) Now write a function that converts from farenheit and uses a keyword argument to specify whether you want the output in celcius or kelvin\n",
    "\n",
    "#5) Write a function that takes two arguments (feet and inches) and returns height in meters. Verify it gives sensible answers\n",
    "\n",
    "#6. Write a function takes one argument (height in meters) and returns two arguments (feet and inches).(Consult the tutorial on numbers if you are stuck on how to implement this.)\n",
    "\n",
    "#7) Verify that the “round trip” conversion from and back to meters is consistent. Check for 3 different values of height in meters\n",
    "\n",
    " "
   ]
  }
 ],
 "metadata": {
  "kernelspec": {
   "display_name": "pangeo23",
   "language": "python",
   "name": "pangeo23"
  },
  "language_info": {
   "codemirror_mode": {
    "name": "ipython",
    "version": 3
   },
   "file_extension": ".py",
   "mimetype": "text/x-python",
   "name": "python",
   "nbconvert_exporter": "python",
   "pygments_lexer": "ipython3",
   "version": "3.11.6"
  }
 },
 "nbformat": 4,
 "nbformat_minor": 5
}
